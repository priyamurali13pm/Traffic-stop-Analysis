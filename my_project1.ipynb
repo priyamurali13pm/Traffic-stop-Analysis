{
 "cells": [
  {
   "cell_type": "code",
   "execution_count": 2,
   "id": "3c19e75d-27c5-4a28-84f1-7beaa44980ec",
   "metadata": {},
   "outputs": [],
   "source": [
    "import pandas as pd"
   ]
  },
  {
   "cell_type": "code",
   "execution_count": 3,
   "id": "b5ec0a89-130f-495c-a9f4-2a9af7d66a78",
   "metadata": {},
   "outputs": [
    {
     "name": "stderr",
     "output_type": "stream",
     "text": [
      "C:\\Users\\Aadhanya\\AppData\\Local\\Temp\\ipykernel_4184\\2021620205.py:2: DtypeWarning: Columns (10) have mixed types. Specify dtype option on import or set low_memory=False.\n",
      "  df = pd.read_csv(\"C:/Users/Aadhanya/Downloads/traffic_stops_with_vehicle_number.csv\")\n"
     ]
    },
    {
     "data": {
      "text/html": [
       "<div>\n",
       "<style scoped>\n",
       "    .dataframe tbody tr th:only-of-type {\n",
       "        vertical-align: middle;\n",
       "    }\n",
       "\n",
       "    .dataframe tbody tr th {\n",
       "        vertical-align: top;\n",
       "    }\n",
       "\n",
       "    .dataframe thead th {\n",
       "        text-align: right;\n",
       "    }\n",
       "</style>\n",
       "<table border=\"1\" class=\"dataframe\">\n",
       "  <thead>\n",
       "    <tr style=\"text-align: right;\">\n",
       "      <th></th>\n",
       "      <th>stop_date</th>\n",
       "      <th>stop_time</th>\n",
       "      <th>country_name</th>\n",
       "      <th>driver_gender</th>\n",
       "      <th>driver_age_raw</th>\n",
       "      <th>driver_age</th>\n",
       "      <th>driver_race</th>\n",
       "      <th>violation_raw</th>\n",
       "      <th>violation</th>\n",
       "      <th>search_conducted</th>\n",
       "      <th>search_type</th>\n",
       "      <th>stop_outcome</th>\n",
       "      <th>is_arrested</th>\n",
       "      <th>stop_duration</th>\n",
       "      <th>drugs_related_stop</th>\n",
       "      <th>vehicle_number</th>\n",
       "    </tr>\n",
       "  </thead>\n",
       "  <tbody>\n",
       "    <tr>\n",
       "      <th>0</th>\n",
       "      <td>2020-01-01</td>\n",
       "      <td>0:00:00</td>\n",
       "      <td>Canada</td>\n",
       "      <td>M</td>\n",
       "      <td>59</td>\n",
       "      <td>19</td>\n",
       "      <td>Asian</td>\n",
       "      <td>Drunk Driving</td>\n",
       "      <td>Speeding</td>\n",
       "      <td>True</td>\n",
       "      <td>Vehicle Search</td>\n",
       "      <td>Ticket</td>\n",
       "      <td>True</td>\n",
       "      <td>16-30 Min</td>\n",
       "      <td>True</td>\n",
       "      <td>UP76DY3473</td>\n",
       "    </tr>\n",
       "    <tr>\n",
       "      <th>1</th>\n",
       "      <td>2020-01-01</td>\n",
       "      <td>0:01:00</td>\n",
       "      <td>India</td>\n",
       "      <td>M</td>\n",
       "      <td>35</td>\n",
       "      <td>58</td>\n",
       "      <td>Other</td>\n",
       "      <td>Other</td>\n",
       "      <td>Other</td>\n",
       "      <td>False</td>\n",
       "      <td>Vehicle Search</td>\n",
       "      <td>Arrest</td>\n",
       "      <td>True</td>\n",
       "      <td>16-30 Min</td>\n",
       "      <td>True</td>\n",
       "      <td>RJ83PZ4441</td>\n",
       "    </tr>\n",
       "    <tr>\n",
       "      <th>2</th>\n",
       "      <td>2020-01-01</td>\n",
       "      <td>0:02:00</td>\n",
       "      <td>USA</td>\n",
       "      <td>M</td>\n",
       "      <td>26</td>\n",
       "      <td>76</td>\n",
       "      <td>Black</td>\n",
       "      <td>Signal Violation</td>\n",
       "      <td>Speeding</td>\n",
       "      <td>False</td>\n",
       "      <td>Frisk</td>\n",
       "      <td>Ticket</td>\n",
       "      <td>True</td>\n",
       "      <td>16-30 Min</td>\n",
       "      <td>True</td>\n",
       "      <td>RJ32OM7264</td>\n",
       "    </tr>\n",
       "    <tr>\n",
       "      <th>3</th>\n",
       "      <td>2020-01-01</td>\n",
       "      <td>0:03:00</td>\n",
       "      <td>Canada</td>\n",
       "      <td>M</td>\n",
       "      <td>26</td>\n",
       "      <td>76</td>\n",
       "      <td>Black</td>\n",
       "      <td>Speeding</td>\n",
       "      <td>DUI</td>\n",
       "      <td>True</td>\n",
       "      <td>Frisk</td>\n",
       "      <td>Warning</td>\n",
       "      <td>False</td>\n",
       "      <td>0-15 Min</td>\n",
       "      <td>True</td>\n",
       "      <td>RJ76TI3807</td>\n",
       "    </tr>\n",
       "    <tr>\n",
       "      <th>4</th>\n",
       "      <td>2020-01-01</td>\n",
       "      <td>0:04:00</td>\n",
       "      <td>Canada</td>\n",
       "      <td>M</td>\n",
       "      <td>62</td>\n",
       "      <td>75</td>\n",
       "      <td>Other</td>\n",
       "      <td>Speeding</td>\n",
       "      <td>Other</td>\n",
       "      <td>False</td>\n",
       "      <td>Vehicle Search</td>\n",
       "      <td>Arrest</td>\n",
       "      <td>True</td>\n",
       "      <td>16-30 Min</td>\n",
       "      <td>False</td>\n",
       "      <td>WB63BB8305</td>\n",
       "    </tr>\n",
       "  </tbody>\n",
       "</table>\n",
       "</div>"
      ],
      "text/plain": [
       "    stop_date stop_time country_name driver_gender  driver_age_raw  \\\n",
       "0  2020-01-01   0:00:00       Canada             M              59   \n",
       "1  2020-01-01   0:01:00        India             M              35   \n",
       "2  2020-01-01   0:02:00          USA             M              26   \n",
       "3  2020-01-01   0:03:00       Canada             M              26   \n",
       "4  2020-01-01   0:04:00       Canada             M              62   \n",
       "\n",
       "   driver_age driver_race     violation_raw violation  search_conducted  \\\n",
       "0          19       Asian     Drunk Driving  Speeding              True   \n",
       "1          58       Other             Other     Other             False   \n",
       "2          76       Black  Signal Violation  Speeding             False   \n",
       "3          76       Black          Speeding       DUI              True   \n",
       "4          75       Other          Speeding     Other             False   \n",
       "\n",
       "      search_type stop_outcome  is_arrested stop_duration  drugs_related_stop  \\\n",
       "0  Vehicle Search       Ticket         True     16-30 Min                True   \n",
       "1  Vehicle Search       Arrest         True     16-30 Min                True   \n",
       "2           Frisk       Ticket         True     16-30 Min                True   \n",
       "3           Frisk      Warning        False      0-15 Min                True   \n",
       "4  Vehicle Search       Arrest         True     16-30 Min               False   \n",
       "\n",
       "  vehicle_number  \n",
       "0     UP76DY3473  \n",
       "1     RJ83PZ4441  \n",
       "2     RJ32OM7264  \n",
       "3     RJ76TI3807  \n",
       "4     WB63BB8305  "
      ]
     },
     "execution_count": 3,
     "metadata": {},
     "output_type": "execute_result"
    }
   ],
   "source": [
    "#1st read excel file\n",
    "df = pd.read_csv(\"C:/Users/Aadhanya/Downloads/traffic_stops_with_vehicle_number.csv\")\n",
    "df.head()"
   ]
  },
  {
   "cell_type": "code",
   "execution_count": 6,
   "id": "6e707ad8-d6f5-4f6b-918d-e7b6c6ac3b3c",
   "metadata": {},
   "outputs": [
    {
     "name": "stdout",
     "output_type": "stream",
     "text": [
      "stop_date                 0\n",
      "stop_time                 0\n",
      "country_name              0\n",
      "driver_gender             0\n",
      "driver_age_raw            0\n",
      "driver_age                0\n",
      "driver_race               0\n",
      "violation_raw             0\n",
      "violation                 0\n",
      "search_conducted          0\n",
      "search_type           21720\n",
      "stop_outcome              0\n",
      "is_arrested               0\n",
      "stop_duration             0\n",
      "drugs_related_stop        0\n",
      "vehicle_number            0\n",
      "dtype: int64\n"
     ]
    }
   ],
   "source": [
    "#check missing values or null values in dataset\n",
    "print(df.isnull().sum())"
   ]
  },
  {
   "cell_type": "code",
   "execution_count": 4,
   "id": "3f3a4fc0-7f77-404d-b93e-7ce45e759d4c",
   "metadata": {},
   "outputs": [
    {
     "data": {
      "text/plain": [
       "(65538, 16)"
      ]
     },
     "execution_count": 4,
     "metadata": {},
     "output_type": "execute_result"
    }
   ],
   "source": [
    "df.shape"
   ]
  },
  {
   "cell_type": "code",
   "execution_count": 5,
   "id": "0f146d70-abac-48cc-9f7a-3586f6ba8305",
   "metadata": {},
   "outputs": [
    {
     "data": {
      "text/plain": [
       "array(['Vehicle Search', 'Frisk', nan], dtype=object)"
      ]
     },
     "execution_count": 5,
     "metadata": {},
     "output_type": "execute_result"
    }
   ],
   "source": [
    "df['search_type'].unique()"
   ]
  },
  {
   "cell_type": "code",
   "execution_count": 6,
   "id": "671827c6-431c-489e-8c6e-894d781feada",
   "metadata": {},
   "outputs": [
    {
     "name": "stdout",
     "output_type": "stream",
     "text": [
      "After filling:\n",
      "        stop_date stop_time country_name driver_gender  driver_age_raw  \\\n",
      "0      2020-01-01   0:00:00       Canada             M              59   \n",
      "1      2020-01-01   0:01:00        India             M              35   \n",
      "2      2020-01-01   0:02:00          USA             M              26   \n",
      "3      2020-01-01   0:03:00       Canada             M              26   \n",
      "4      2020-01-01   0:04:00       Canada             M              62   \n",
      "...           ...       ...          ...           ...             ...   \n",
      "65533  2020-02-15  12:13:00        India             F              54   \n",
      "65534  2020-02-15  12:14:00       Canada             F              18   \n",
      "65535  2020-02-15  12:15:00          USA             M              27   \n",
      "65536  2020-02-15  12:16:00       Canada             F              49   \n",
      "65537  2020-02-15  12:17:00          USA             F              72   \n",
      "\n",
      "       driver_age driver_race     violation_raw violation  search_conducted  \\\n",
      "0              19       Asian     Drunk Driving  Speeding              True   \n",
      "1              58       Other             Other     Other             False   \n",
      "2              76       Black  Signal Violation  Speeding             False   \n",
      "3              76       Black          Speeding       DUI              True   \n",
      "4              75       Other          Speeding     Other             False   \n",
      "...           ...         ...               ...       ...               ...   \n",
      "65533          48       Black             Other     Other             False   \n",
      "65534          35    Hispanic          Seatbelt     Other              True   \n",
      "65535          41       Asian          Seatbelt       DUI              True   \n",
      "65536          63       Black          Seatbelt     Other             False   \n",
      "65537          32       Other          Seatbelt  Speeding              True   \n",
      "\n",
      "          search_type stop_outcome  is_arrested stop_duration  \\\n",
      "0      Vehicle Search       Ticket         True     16-30 Min   \n",
      "1      Vehicle Search       Arrest         True     16-30 Min   \n",
      "2               Frisk       Ticket         True     16-30 Min   \n",
      "3               Frisk      Warning        False      0-15 Min   \n",
      "4      Vehicle Search       Arrest         True     16-30 Min   \n",
      "...               ...          ...          ...           ...   \n",
      "65533  Vehicle Search       Arrest         True     16-30 Min   \n",
      "65534  Vehicle Search       Ticket        False     16-30 Min   \n",
      "65535           Frisk       Ticket         True       30+ Min   \n",
      "65536       No_search      Warning         True      0-15 Min   \n",
      "65537       No_search       Ticket         True     16-30 Min   \n",
      "\n",
      "       drugs_related_stop vehicle_number  \n",
      "0                    True     UP76DY3473  \n",
      "1                    True     RJ83PZ4441  \n",
      "2                    True     RJ32OM7264  \n",
      "3                    True     RJ76TI3807  \n",
      "4                   False     WB63BB8305  \n",
      "...                   ...            ...  \n",
      "65533               False     DL56GW6568  \n",
      "65534                True     TN73EO7098  \n",
      "65535                True     GJ33MX8328  \n",
      "65536                True     KA24UZ8488  \n",
      "65537               False     UP89PT2924  \n",
      "\n",
      "[65538 rows x 16 columns]\n"
     ]
    }
   ],
   "source": [
    "df[\"search_type\"] = df['search_type'].fillna('No_search')\n",
    "print(\"After filling:\")\n",
    "print(df)"
   ]
  },
  {
   "cell_type": "code",
   "execution_count": 10,
   "id": "9f5df158-7c57-4d05-b576-0aa84e857099",
   "metadata": {},
   "outputs": [
    {
     "data": {
      "text/plain": [
       "array(['Vehicle Search', 'Frisk', 'No_search'], dtype=object)"
      ]
     },
     "execution_count": 10,
     "metadata": {},
     "output_type": "execute_result"
    }
   ],
   "source": [
    "df['search_type'].unique()"
   ]
  },
  {
   "cell_type": "code",
   "execution_count": 11,
   "id": "2dd8ff05-6ca2-440d-99d9-34c78247cf0a",
   "metadata": {},
   "outputs": [
    {
     "name": "stdout",
     "output_type": "stream",
     "text": [
      "stop_date             0\n",
      "stop_time             0\n",
      "country_name          0\n",
      "driver_gender         0\n",
      "driver_age_raw        0\n",
      "driver_age            0\n",
      "driver_race           0\n",
      "violation_raw         0\n",
      "violation             0\n",
      "search_conducted      0\n",
      "search_type           0\n",
      "stop_outcome          0\n",
      "is_arrested           0\n",
      "stop_duration         0\n",
      "drugs_related_stop    0\n",
      "vehicle_number        0\n",
      "dtype: int64\n"
     ]
    }
   ],
   "source": [
    "print(df.isnull().sum())"
   ]
  },
  {
   "cell_type": "code",
   "execution_count": 12,
   "id": "0a6209b2-5e93-47ee-9575-edb180af057d",
   "metadata": {},
   "outputs": [],
   "source": [
    "import numpy as np"
   ]
  },
  {
   "cell_type": "code",
   "execution_count": 13,
   "id": "faa81523-890f-4481-b051-1878b6ef0bb3",
   "metadata": {},
   "outputs": [
    {
     "data": {
      "text/html": [
       "<div>\n",
       "<style scoped>\n",
       "    .dataframe tbody tr th:only-of-type {\n",
       "        vertical-align: middle;\n",
       "    }\n",
       "\n",
       "    .dataframe tbody tr th {\n",
       "        vertical-align: top;\n",
       "    }\n",
       "\n",
       "    .dataframe thead th {\n",
       "        text-align: right;\n",
       "    }\n",
       "</style>\n",
       "<table border=\"1\" class=\"dataframe\">\n",
       "  <thead>\n",
       "    <tr style=\"text-align: right;\">\n",
       "      <th></th>\n",
       "      <th>stop_date</th>\n",
       "      <th>stop_time</th>\n",
       "      <th>country_name</th>\n",
       "      <th>driver_gender</th>\n",
       "      <th>driver_age_raw</th>\n",
       "      <th>driver_age</th>\n",
       "      <th>driver_race</th>\n",
       "      <th>violation_raw</th>\n",
       "      <th>violation</th>\n",
       "      <th>search_conducted</th>\n",
       "      <th>search_type</th>\n",
       "      <th>stop_outcome</th>\n",
       "      <th>is_arrested</th>\n",
       "      <th>stop_duration</th>\n",
       "      <th>drugs_related_stop</th>\n",
       "      <th>vehicle_number</th>\n",
       "    </tr>\n",
       "  </thead>\n",
       "  <tbody>\n",
       "    <tr>\n",
       "      <th>count</th>\n",
       "      <td>65538</td>\n",
       "      <td>65538</td>\n",
       "      <td>65538</td>\n",
       "      <td>65538</td>\n",
       "      <td>65538.000000</td>\n",
       "      <td>65538.00000</td>\n",
       "      <td>65538</td>\n",
       "      <td>65538</td>\n",
       "      <td>65538</td>\n",
       "      <td>65538</td>\n",
       "      <td>65538</td>\n",
       "      <td>65538</td>\n",
       "      <td>65538</td>\n",
       "      <td>65538</td>\n",
       "      <td>65538</td>\n",
       "      <td>65538</td>\n",
       "    </tr>\n",
       "    <tr>\n",
       "      <th>unique</th>\n",
       "      <td>46</td>\n",
       "      <td>1440</td>\n",
       "      <td>3</td>\n",
       "      <td>2</td>\n",
       "      <td>NaN</td>\n",
       "      <td>NaN</td>\n",
       "      <td>5</td>\n",
       "      <td>5</td>\n",
       "      <td>5</td>\n",
       "      <td>2</td>\n",
       "      <td>3</td>\n",
       "      <td>3</td>\n",
       "      <td>2</td>\n",
       "      <td>3</td>\n",
       "      <td>2</td>\n",
       "      <td>65538</td>\n",
       "    </tr>\n",
       "    <tr>\n",
       "      <th>top</th>\n",
       "      <td>2020-01-01</td>\n",
       "      <td>12:17:00</td>\n",
       "      <td>India</td>\n",
       "      <td>F</td>\n",
       "      <td>NaN</td>\n",
       "      <td>NaN</td>\n",
       "      <td>White</td>\n",
       "      <td>Seatbelt</td>\n",
       "      <td>Other</td>\n",
       "      <td>False</td>\n",
       "      <td>Frisk</td>\n",
       "      <td>Warning</td>\n",
       "      <td>True</td>\n",
       "      <td>30+ Min</td>\n",
       "      <td>True</td>\n",
       "      <td>UP89PT2924</td>\n",
       "    </tr>\n",
       "    <tr>\n",
       "      <th>freq</th>\n",
       "      <td>1440</td>\n",
       "      <td>46</td>\n",
       "      <td>21998</td>\n",
       "      <td>32881</td>\n",
       "      <td>NaN</td>\n",
       "      <td>NaN</td>\n",
       "      <td>13168</td>\n",
       "      <td>13204</td>\n",
       "      <td>13194</td>\n",
       "      <td>32837</td>\n",
       "      <td>21971</td>\n",
       "      <td>21966</td>\n",
       "      <td>32846</td>\n",
       "      <td>21958</td>\n",
       "      <td>32769</td>\n",
       "      <td>1</td>\n",
       "    </tr>\n",
       "    <tr>\n",
       "      <th>mean</th>\n",
       "      <td>NaN</td>\n",
       "      <td>NaN</td>\n",
       "      <td>NaN</td>\n",
       "      <td>NaN</td>\n",
       "      <td>49.055998</td>\n",
       "      <td>49.11221</td>\n",
       "      <td>NaN</td>\n",
       "      <td>NaN</td>\n",
       "      <td>NaN</td>\n",
       "      <td>NaN</td>\n",
       "      <td>NaN</td>\n",
       "      <td>NaN</td>\n",
       "      <td>NaN</td>\n",
       "      <td>NaN</td>\n",
       "      <td>NaN</td>\n",
       "      <td>NaN</td>\n",
       "    </tr>\n",
       "    <tr>\n",
       "      <th>std</th>\n",
       "      <td>NaN</td>\n",
       "      <td>NaN</td>\n",
       "      <td>NaN</td>\n",
       "      <td>NaN</td>\n",
       "      <td>18.174699</td>\n",
       "      <td>18.15012</td>\n",
       "      <td>NaN</td>\n",
       "      <td>NaN</td>\n",
       "      <td>NaN</td>\n",
       "      <td>NaN</td>\n",
       "      <td>NaN</td>\n",
       "      <td>NaN</td>\n",
       "      <td>NaN</td>\n",
       "      <td>NaN</td>\n",
       "      <td>NaN</td>\n",
       "      <td>NaN</td>\n",
       "    </tr>\n",
       "    <tr>\n",
       "      <th>min</th>\n",
       "      <td>NaN</td>\n",
       "      <td>NaN</td>\n",
       "      <td>NaN</td>\n",
       "      <td>NaN</td>\n",
       "      <td>18.000000</td>\n",
       "      <td>18.00000</td>\n",
       "      <td>NaN</td>\n",
       "      <td>NaN</td>\n",
       "      <td>NaN</td>\n",
       "      <td>NaN</td>\n",
       "      <td>NaN</td>\n",
       "      <td>NaN</td>\n",
       "      <td>NaN</td>\n",
       "      <td>NaN</td>\n",
       "      <td>NaN</td>\n",
       "      <td>NaN</td>\n",
       "    </tr>\n",
       "    <tr>\n",
       "      <th>25%</th>\n",
       "      <td>NaN</td>\n",
       "      <td>NaN</td>\n",
       "      <td>NaN</td>\n",
       "      <td>NaN</td>\n",
       "      <td>33.000000</td>\n",
       "      <td>34.00000</td>\n",
       "      <td>NaN</td>\n",
       "      <td>NaN</td>\n",
       "      <td>NaN</td>\n",
       "      <td>NaN</td>\n",
       "      <td>NaN</td>\n",
       "      <td>NaN</td>\n",
       "      <td>NaN</td>\n",
       "      <td>NaN</td>\n",
       "      <td>NaN</td>\n",
       "      <td>NaN</td>\n",
       "    </tr>\n",
       "    <tr>\n",
       "      <th>50%</th>\n",
       "      <td>NaN</td>\n",
       "      <td>NaN</td>\n",
       "      <td>NaN</td>\n",
       "      <td>NaN</td>\n",
       "      <td>49.000000</td>\n",
       "      <td>49.00000</td>\n",
       "      <td>NaN</td>\n",
       "      <td>NaN</td>\n",
       "      <td>NaN</td>\n",
       "      <td>NaN</td>\n",
       "      <td>NaN</td>\n",
       "      <td>NaN</td>\n",
       "      <td>NaN</td>\n",
       "      <td>NaN</td>\n",
       "      <td>NaN</td>\n",
       "      <td>NaN</td>\n",
       "    </tr>\n",
       "    <tr>\n",
       "      <th>75%</th>\n",
       "      <td>NaN</td>\n",
       "      <td>NaN</td>\n",
       "      <td>NaN</td>\n",
       "      <td>NaN</td>\n",
       "      <td>65.000000</td>\n",
       "      <td>65.00000</td>\n",
       "      <td>NaN</td>\n",
       "      <td>NaN</td>\n",
       "      <td>NaN</td>\n",
       "      <td>NaN</td>\n",
       "      <td>NaN</td>\n",
       "      <td>NaN</td>\n",
       "      <td>NaN</td>\n",
       "      <td>NaN</td>\n",
       "      <td>NaN</td>\n",
       "      <td>NaN</td>\n",
       "    </tr>\n",
       "    <tr>\n",
       "      <th>max</th>\n",
       "      <td>NaN</td>\n",
       "      <td>NaN</td>\n",
       "      <td>NaN</td>\n",
       "      <td>NaN</td>\n",
       "      <td>80.000000</td>\n",
       "      <td>80.00000</td>\n",
       "      <td>NaN</td>\n",
       "      <td>NaN</td>\n",
       "      <td>NaN</td>\n",
       "      <td>NaN</td>\n",
       "      <td>NaN</td>\n",
       "      <td>NaN</td>\n",
       "      <td>NaN</td>\n",
       "      <td>NaN</td>\n",
       "      <td>NaN</td>\n",
       "      <td>NaN</td>\n",
       "    </tr>\n",
       "  </tbody>\n",
       "</table>\n",
       "</div>"
      ],
      "text/plain": [
       "         stop_date stop_time country_name driver_gender  driver_age_raw  \\\n",
       "count        65538     65538        65538         65538    65538.000000   \n",
       "unique          46      1440            3             2             NaN   \n",
       "top     2020-01-01  12:17:00        India             F             NaN   \n",
       "freq          1440        46        21998         32881             NaN   \n",
       "mean           NaN       NaN          NaN           NaN       49.055998   \n",
       "std            NaN       NaN          NaN           NaN       18.174699   \n",
       "min            NaN       NaN          NaN           NaN       18.000000   \n",
       "25%            NaN       NaN          NaN           NaN       33.000000   \n",
       "50%            NaN       NaN          NaN           NaN       49.000000   \n",
       "75%            NaN       NaN          NaN           NaN       65.000000   \n",
       "max            NaN       NaN          NaN           NaN       80.000000   \n",
       "\n",
       "         driver_age driver_race violation_raw violation search_conducted  \\\n",
       "count   65538.00000       65538         65538     65538            65538   \n",
       "unique          NaN           5             5         5                2   \n",
       "top             NaN       White      Seatbelt     Other            False   \n",
       "freq            NaN       13168         13204     13194            32837   \n",
       "mean       49.11221         NaN           NaN       NaN              NaN   \n",
       "std        18.15012         NaN           NaN       NaN              NaN   \n",
       "min        18.00000         NaN           NaN       NaN              NaN   \n",
       "25%        34.00000         NaN           NaN       NaN              NaN   \n",
       "50%        49.00000         NaN           NaN       NaN              NaN   \n",
       "75%        65.00000         NaN           NaN       NaN              NaN   \n",
       "max        80.00000         NaN           NaN       NaN              NaN   \n",
       "\n",
       "       search_type stop_outcome is_arrested stop_duration drugs_related_stop  \\\n",
       "count        65538        65538       65538         65538              65538   \n",
       "unique           3            3           2             3                  2   \n",
       "top          Frisk      Warning        True       30+ Min               True   \n",
       "freq         21971        21966       32846         21958              32769   \n",
       "mean           NaN          NaN         NaN           NaN                NaN   \n",
       "std            NaN          NaN         NaN           NaN                NaN   \n",
       "min            NaN          NaN         NaN           NaN                NaN   \n",
       "25%            NaN          NaN         NaN           NaN                NaN   \n",
       "50%            NaN          NaN         NaN           NaN                NaN   \n",
       "75%            NaN          NaN         NaN           NaN                NaN   \n",
       "max            NaN          NaN         NaN           NaN                NaN   \n",
       "\n",
       "       vehicle_number  \n",
       "count           65538  \n",
       "unique          65538  \n",
       "top        UP89PT2924  \n",
       "freq                1  \n",
       "mean              NaN  \n",
       "std               NaN  \n",
       "min               NaN  \n",
       "25%               NaN  \n",
       "50%               NaN  \n",
       "75%               NaN  \n",
       "max               NaN  "
      ]
     },
     "execution_count": 13,
     "metadata": {},
     "output_type": "execute_result"
    }
   ],
   "source": [
    "df.describe(include='all')"
   ]
  },
  {
   "cell_type": "code",
   "execution_count": 14,
   "id": "da8dce4c-0c99-4de2-8657-cbbc94fe345f",
   "metadata": {},
   "outputs": [],
   "source": [
    "df['stop_date'] = pd.to_datetime(df['stop_date'],errors='coerce')\n",
    "df['stop_time'] = pd.to_datetime(df['stop_time'], format='%H:%M:%S',errors='coerce').dt.time"
   ]
  },
  {
   "cell_type": "code",
   "execution_count": 17,
   "id": "0a981ef7-d6ce-4f34-886e-356d2b936896",
   "metadata": {},
   "outputs": [],
   "source": [
    "df['driver_gender'] =df['driver_gender'].fillna('Unknown')\n",
    "df['driver_race'] =df['driver_race'].fillna('Unknown')\n",
    "df['search_type'] =df['search_type'].fillna('No_Search')\n",
    "df['violation'] =df['violation'].fillna('Other')"
   ]
  },
  {
   "cell_type": "code",
   "execution_count": 18,
   "id": "e807f5ae-d354-4a79-94cf-9aa86c75dd3b",
   "metadata": {},
   "outputs": [],
   "source": [
    "df['driver_age'] = df['driver_age'].fillna(df['driver_age'].median())"
   ]
  },
  {
   "cell_type": "code",
   "execution_count": null,
   "id": "921c2ec7-0ea3-4018-9281-40fa233d16a2",
   "metadata": {},
   "outputs": [],
   "source": [
    "df.drop_duplicates(inplace=True)"
   ]
  },
  {
   "cell_type": "code",
   "execution_count": 19,
   "id": "34ec7c0b-a656-4e13-8ddb-d861069dbc7e",
   "metadata": {},
   "outputs": [],
   "source": [
    "df['search_conducted'] = df['search_conducted'].map({'True': 1, 'False': 0}).fillna(0)\n",
    "df['is_arrested'] = df['is_arrested'].map({'True': 1, 'False': 0}).fillna(0)\n",
    "df['drugs_related_stop'] = df['drugs_related_stop'].map({'True': 1, 'False': 0}).fillna(0)"
   ]
  },
  {
   "cell_type": "code",
   "execution_count": 19,
   "id": "e4ba1801-b319-4734-a41d-e3f4f8bd1a90",
   "metadata": {},
   "outputs": [
    {
     "name": "stdout",
     "output_type": "stream",
     "text": [
      "['stop_date', 'stop_time', 'country_name', 'driver_gender', 'driver_age', 'driver_race', 'violation_raw', 'violation', 'search_conducted', 'search_type', 'stop_outcome', 'is_arrested', 'stop_duration', 'drugs_related_stop', 'vehicle_number']\n"
     ]
    }
   ],
   "source": [
    "print(df.columns.tolist())"
   ]
  },
  {
   "cell_type": "raw",
   "id": "788e4077-c3d1-4c51-bcbe-94c3d43cd5ef",
   "metadata": {},
   "source": [
    "df.columns = df.columns.str.strip()"
   ]
  },
  {
   "cell_type": "code",
   "execution_count": 20,
   "id": "ecdc6e50-7d3a-4135-991f-a2afeeb746bd",
   "metadata": {},
   "outputs": [],
   "source": [
    "df.drop(columns = ['driver_race'], inplace = True)"
   ]
  },
  {
   "cell_type": "code",
   "execution_count": 26,
   "id": "9d92eaab-27be-4afd-9900-292f705b12f4",
   "metadata": {},
   "outputs": [],
   "source": [
    "df.drop(columns = ['violation_raw'], inplace = True)"
   ]
  },
  {
   "cell_type": "code",
   "execution_count": 31,
   "id": "31f37c5b-5e3f-4ada-b8d0-627aef4310f4",
   "metadata": {},
   "outputs": [],
   "source": [
    "df.columns = [col.capitalize() for col in df.columns]"
   ]
  },
  {
   "cell_type": "code",
   "execution_count": 32,
   "id": "eccbf402-a0e3-4ef1-b5cc-bcbf9822d449",
   "metadata": {},
   "outputs": [
    {
     "name": "stdout",
     "output_type": "stream",
     "text": [
      "<class 'pandas.core.frame.DataFrame'>\n",
      "RangeIndex: 65538 entries, 0 to 65537\n",
      "Data columns (total 13 columns):\n",
      " #   Column              Non-Null Count  Dtype \n",
      "---  ------              --------------  ----- \n",
      " 0   Stop_date           65538 non-null  object\n",
      " 1   Stop_time           65538 non-null  object\n",
      " 2   Country_name        65538 non-null  object\n",
      " 3   Driver_gender       65538 non-null  object\n",
      " 4   Driver_age          65538 non-null  int64 \n",
      " 5   Violation           65538 non-null  object\n",
      " 6   Search_conducted    65538 non-null  bool  \n",
      " 7   Search_type         65538 non-null  object\n",
      " 8   Stop_outcome        65538 non-null  object\n",
      " 9   Is_arrested         65538 non-null  bool  \n",
      " 10  Stop_duration       65538 non-null  object\n",
      " 11  Drugs_related_stop  65538 non-null  bool  \n",
      " 12  Vehicle_number      65538 non-null  object\n",
      "dtypes: bool(3), int64(1), object(9)\n",
      "memory usage: 5.2+ MB\n",
      "None\n",
      "    Stop_date Stop_time Country_name Driver_gender  Driver_age Violation  \\\n",
      "0  2020-01-01   0:00:00       Canada             M          19  Speeding   \n",
      "1  2020-01-01   0:01:00        India             M          58     Other   \n",
      "2  2020-01-01   0:02:00          USA             M          76  Speeding   \n",
      "3  2020-01-01   0:03:00       Canada             M          76       DUI   \n",
      "4  2020-01-01   0:04:00       Canada             M          75     Other   \n",
      "\n",
      "   Search_conducted     Search_type Stop_outcome  Is_arrested Stop_duration  \\\n",
      "0              True  Vehicle Search       Ticket         True     16-30 Min   \n",
      "1             False  Vehicle Search       Arrest         True     16-30 Min   \n",
      "2             False           Frisk       Ticket         True     16-30 Min   \n",
      "3              True           Frisk      Warning        False      0-15 Min   \n",
      "4             False  Vehicle Search       Arrest         True     16-30 Min   \n",
      "\n",
      "   Drugs_related_stop Vehicle_number  \n",
      "0                True     UP76DY3473  \n",
      "1                True     RJ83PZ4441  \n",
      "2                True     RJ32OM7264  \n",
      "3                True     RJ76TI3807  \n",
      "4               False     WB63BB8305  \n"
     ]
    }
   ],
   "source": [
    "print(df.info())\n",
    "print(df.head())"
   ]
  },
  {
   "cell_type": "code",
   "execution_count": 33,
   "id": "9a1bb1cf-48ba-4484-abc2-5da4470f12fa",
   "metadata": {
    "scrolled": true
   },
   "outputs": [
    {
     "data": {
      "text/html": [
       "<div>\n",
       "<style scoped>\n",
       "    .dataframe tbody tr th:only-of-type {\n",
       "        vertical-align: middle;\n",
       "    }\n",
       "\n",
       "    .dataframe tbody tr th {\n",
       "        vertical-align: top;\n",
       "    }\n",
       "\n",
       "    .dataframe thead th {\n",
       "        text-align: right;\n",
       "    }\n",
       "</style>\n",
       "<table border=\"1\" class=\"dataframe\">\n",
       "  <thead>\n",
       "    <tr style=\"text-align: right;\">\n",
       "      <th></th>\n",
       "      <th>Stop_date</th>\n",
       "      <th>Stop_time</th>\n",
       "      <th>Country_name</th>\n",
       "      <th>Driver_gender</th>\n",
       "      <th>Driver_age</th>\n",
       "      <th>Violation</th>\n",
       "      <th>Search_conducted</th>\n",
       "      <th>Search_type</th>\n",
       "      <th>Stop_outcome</th>\n",
       "      <th>Is_arrested</th>\n",
       "      <th>Stop_duration</th>\n",
       "      <th>Drugs_related_stop</th>\n",
       "      <th>Vehicle_number</th>\n",
       "    </tr>\n",
       "  </thead>\n",
       "  <tbody>\n",
       "    <tr>\n",
       "      <th>0</th>\n",
       "      <td>2020-01-01</td>\n",
       "      <td>0:00:00</td>\n",
       "      <td>Canada</td>\n",
       "      <td>M</td>\n",
       "      <td>19</td>\n",
       "      <td>Speeding</td>\n",
       "      <td>True</td>\n",
       "      <td>Vehicle Search</td>\n",
       "      <td>Ticket</td>\n",
       "      <td>True</td>\n",
       "      <td>16-30 Min</td>\n",
       "      <td>True</td>\n",
       "      <td>UP76DY3473</td>\n",
       "    </tr>\n",
       "    <tr>\n",
       "      <th>1</th>\n",
       "      <td>2020-01-01</td>\n",
       "      <td>0:01:00</td>\n",
       "      <td>India</td>\n",
       "      <td>M</td>\n",
       "      <td>58</td>\n",
       "      <td>Other</td>\n",
       "      <td>False</td>\n",
       "      <td>Vehicle Search</td>\n",
       "      <td>Arrest</td>\n",
       "      <td>True</td>\n",
       "      <td>16-30 Min</td>\n",
       "      <td>True</td>\n",
       "      <td>RJ83PZ4441</td>\n",
       "    </tr>\n",
       "    <tr>\n",
       "      <th>2</th>\n",
       "      <td>2020-01-01</td>\n",
       "      <td>0:02:00</td>\n",
       "      <td>USA</td>\n",
       "      <td>M</td>\n",
       "      <td>76</td>\n",
       "      <td>Speeding</td>\n",
       "      <td>False</td>\n",
       "      <td>Frisk</td>\n",
       "      <td>Ticket</td>\n",
       "      <td>True</td>\n",
       "      <td>16-30 Min</td>\n",
       "      <td>True</td>\n",
       "      <td>RJ32OM7264</td>\n",
       "    </tr>\n",
       "    <tr>\n",
       "      <th>3</th>\n",
       "      <td>2020-01-01</td>\n",
       "      <td>0:03:00</td>\n",
       "      <td>Canada</td>\n",
       "      <td>M</td>\n",
       "      <td>76</td>\n",
       "      <td>DUI</td>\n",
       "      <td>True</td>\n",
       "      <td>Frisk</td>\n",
       "      <td>Warning</td>\n",
       "      <td>False</td>\n",
       "      <td>0-15 Min</td>\n",
       "      <td>True</td>\n",
       "      <td>RJ76TI3807</td>\n",
       "    </tr>\n",
       "    <tr>\n",
       "      <th>4</th>\n",
       "      <td>2020-01-01</td>\n",
       "      <td>0:04:00</td>\n",
       "      <td>Canada</td>\n",
       "      <td>M</td>\n",
       "      <td>75</td>\n",
       "      <td>Other</td>\n",
       "      <td>False</td>\n",
       "      <td>Vehicle Search</td>\n",
       "      <td>Arrest</td>\n",
       "      <td>True</td>\n",
       "      <td>16-30 Min</td>\n",
       "      <td>False</td>\n",
       "      <td>WB63BB8305</td>\n",
       "    </tr>\n",
       "    <tr>\n",
       "      <th>5</th>\n",
       "      <td>2020-01-01</td>\n",
       "      <td>0:05:00</td>\n",
       "      <td>Canada</td>\n",
       "      <td>F</td>\n",
       "      <td>73</td>\n",
       "      <td>Other</td>\n",
       "      <td>True</td>\n",
       "      <td>Vehicle Search</td>\n",
       "      <td>Ticket</td>\n",
       "      <td>False</td>\n",
       "      <td>16-30 Min</td>\n",
       "      <td>False</td>\n",
       "      <td>MH89ZF7676</td>\n",
       "    </tr>\n",
       "    <tr>\n",
       "      <th>6</th>\n",
       "      <td>2020-01-01</td>\n",
       "      <td>0:06:00</td>\n",
       "      <td>USA</td>\n",
       "      <td>F</td>\n",
       "      <td>70</td>\n",
       "      <td>Speeding</td>\n",
       "      <td>False</td>\n",
       "      <td>Vehicle Search</td>\n",
       "      <td>Ticket</td>\n",
       "      <td>False</td>\n",
       "      <td>30+ Min</td>\n",
       "      <td>False</td>\n",
       "      <td>KA40AD3153</td>\n",
       "    </tr>\n",
       "    <tr>\n",
       "      <th>7</th>\n",
       "      <td>2020-01-01</td>\n",
       "      <td>0:07:00</td>\n",
       "      <td>India</td>\n",
       "      <td>M</td>\n",
       "      <td>50</td>\n",
       "      <td>Other</td>\n",
       "      <td>False</td>\n",
       "      <td>No_search</td>\n",
       "      <td>Arrest</td>\n",
       "      <td>True</td>\n",
       "      <td>30+ Min</td>\n",
       "      <td>True</td>\n",
       "      <td>DL75KZ7835</td>\n",
       "    </tr>\n",
       "    <tr>\n",
       "      <th>8</th>\n",
       "      <td>2020-01-01</td>\n",
       "      <td>0:08:00</td>\n",
       "      <td>USA</td>\n",
       "      <td>F</td>\n",
       "      <td>30</td>\n",
       "      <td>Seatbelt</td>\n",
       "      <td>True</td>\n",
       "      <td>Frisk</td>\n",
       "      <td>Arrest</td>\n",
       "      <td>False</td>\n",
       "      <td>0-15 Min</td>\n",
       "      <td>True</td>\n",
       "      <td>DL50PO5101</td>\n",
       "    </tr>\n",
       "    <tr>\n",
       "      <th>9</th>\n",
       "      <td>2020-01-01</td>\n",
       "      <td>0:09:00</td>\n",
       "      <td>USA</td>\n",
       "      <td>M</td>\n",
       "      <td>21</td>\n",
       "      <td>Signal</td>\n",
       "      <td>True</td>\n",
       "      <td>No_search</td>\n",
       "      <td>Warning</td>\n",
       "      <td>True</td>\n",
       "      <td>16-30 Min</td>\n",
       "      <td>False</td>\n",
       "      <td>KA79RD2271</td>\n",
       "    </tr>\n",
       "  </tbody>\n",
       "</table>\n",
       "</div>"
      ],
      "text/plain": [
       "    Stop_date Stop_time Country_name Driver_gender  Driver_age Violation  \\\n",
       "0  2020-01-01   0:00:00       Canada             M          19  Speeding   \n",
       "1  2020-01-01   0:01:00        India             M          58     Other   \n",
       "2  2020-01-01   0:02:00          USA             M          76  Speeding   \n",
       "3  2020-01-01   0:03:00       Canada             M          76       DUI   \n",
       "4  2020-01-01   0:04:00       Canada             M          75     Other   \n",
       "5  2020-01-01   0:05:00       Canada             F          73     Other   \n",
       "6  2020-01-01   0:06:00          USA             F          70  Speeding   \n",
       "7  2020-01-01   0:07:00        India             M          50     Other   \n",
       "8  2020-01-01   0:08:00          USA             F          30  Seatbelt   \n",
       "9  2020-01-01   0:09:00          USA             M          21    Signal   \n",
       "\n",
       "   Search_conducted     Search_type Stop_outcome  Is_arrested Stop_duration  \\\n",
       "0              True  Vehicle Search       Ticket         True     16-30 Min   \n",
       "1             False  Vehicle Search       Arrest         True     16-30 Min   \n",
       "2             False           Frisk       Ticket         True     16-30 Min   \n",
       "3              True           Frisk      Warning        False      0-15 Min   \n",
       "4             False  Vehicle Search       Arrest         True     16-30 Min   \n",
       "5              True  Vehicle Search       Ticket        False     16-30 Min   \n",
       "6             False  Vehicle Search       Ticket        False       30+ Min   \n",
       "7             False       No_search       Arrest         True       30+ Min   \n",
       "8              True           Frisk       Arrest        False      0-15 Min   \n",
       "9              True       No_search      Warning         True     16-30 Min   \n",
       "\n",
       "   Drugs_related_stop Vehicle_number  \n",
       "0                True     UP76DY3473  \n",
       "1                True     RJ83PZ4441  \n",
       "2                True     RJ32OM7264  \n",
       "3                True     RJ76TI3807  \n",
       "4               False     WB63BB8305  \n",
       "5               False     MH89ZF7676  \n",
       "6               False     KA40AD3153  \n",
       "7                True     DL75KZ7835  \n",
       "8                True     DL50PO5101  \n",
       "9               False     KA79RD2271  "
      ]
     },
     "execution_count": 33,
     "metadata": {},
     "output_type": "execute_result"
    }
   ],
   "source": [
    "df.head(10)"
   ]
  },
  {
   "cell_type": "code",
   "execution_count": 25,
   "id": "a934449e-6a24-49d5-92fe-049f7e74f474",
   "metadata": {},
   "outputs": [
    {
     "data": {
      "text/plain": [
       "driver_gender    0\n",
       "violation        0\n",
       "dtype: int64"
      ]
     },
     "execution_count": 25,
     "metadata": {},
     "output_type": "execute_result"
    }
   ],
   "source": [
    "df[['driver_gender', 'violation']].isnull().sum()"
   ]
  },
  {
   "cell_type": "code",
   "execution_count": 29,
   "id": "95927c97-2038-43c4-b416-66407e2aca46",
   "metadata": {},
   "outputs": [],
   "source": [
    "import sqlite3"
   ]
  },
  {
   "cell_type": "code",
   "execution_count": 30,
   "id": "f2fb3a3b-ae32-488c-b608-ab26db0fc7e3",
   "metadata": {},
   "outputs": [
    {
     "name": "stdout",
     "output_type": "stream",
     "text": [
      "Sqlite connection established\n"
     ]
    }
   ],
   "source": [
    "conn_sqlite = sqlite3.connect(\"traffic_stops_with_vehicle_number_db.sqlite\")\n",
    "cursor= conn_sqlite.cursor()\n",
    "print(\"Sqlite connection established\")"
   ]
  },
  {
   "cell_type": "code",
   "execution_count": 36,
   "id": "edc4bcd9-1bc8-46e4-9fa4-4cb7402b2fcb",
   "metadata": {},
   "outputs": [
    {
     "name": "stdout",
     "output_type": "stream",
     "text": [
      "table secure_check created successfully in sqlite3!\n"
     ]
    }
   ],
   "source": [
    "cursor.execute(\"\"\"\n",
    "     CREATE TABLE IF NOT EXISTS secure_check(\n",
    "         Stop_date DATE,\n",
    "         Stop_time TIME,\n",
    "         COUNTRY_NAME TEXT,\n",
    "         Driver_gender TEXT,\n",
    "         Driver_age INTEGER,\n",
    "         Violation TEXT,\n",
    "         Search_conducted BOOLEAN,\n",
    "         Search_type TEXT,\n",
    "         Stop_outcome TEXT,\n",
    "         Is_arrested BOOLEAN,\n",
    "         Stop_duration TIME,\n",
    "         Drug_related_stop BOOLEAN,\n",
    "         Vehicle_number INTEGER\n",
    "         );\n",
    "    \"\"\")\n",
    "conn_sqlite.commit()\n",
    "print(\"table secure_check created successfully in sqlite3!\")"
   ]
  },
  {
   "cell_type": "code",
   "execution_count": 39,
   "id": "10126a11-e249-4664-bd82-732a548bcecc",
   "metadata": {},
   "outputs": [
    {
     "name": "stdout",
     "output_type": "stream",
     "text": [
      "MySQl connection established!\n"
     ]
    }
   ],
   "source": [
    "import mysql.connector\n",
    "\n",
    "conn_mysql = mysql.connector.connect(\n",
    "    host = \"localhost\",\n",
    "    user = \"root\",\n",
    "    password = \"23Nov1987@\"\n",
    ")\n",
    "cursor_mysql = conn_mysql.cursor()\n",
    "print(\"MySQl connection established!\")"
   ]
  },
  {
   "cell_type": "code",
   "execution_count": 40,
   "id": "d10d49ab-034e-4412-a0cc-c4e77aac8923",
   "metadata": {},
   "outputs": [
    {
     "name": "stdout",
     "output_type": "stream",
     "text": [
      "MYSQl database 'Secure_check' created successfully\n"
     ]
    }
   ],
   "source": [
    "cursor_mysql.execute(\"CREATE DATABASE IF NOT EXISTS Secure_check_db;\")\n",
    "print(\"MYSQl database 'Secure_check' created successfully\")"
   ]
  },
  {
   "cell_type": "code",
   "execution_count": 41,
   "id": "a708e4a3-c57b-4b9f-b7cf-8caf5cba7804",
   "metadata": {},
   "outputs": [
    {
     "name": "stdout",
     "output_type": "stream",
     "text": [
      "Table 'Police logs' created successfully!\n",
      "table secure_check created successfully in sqlite3!\n"
     ]
    }
   ],
   "source": [
    "cursor_mysql.execute(\"USE Secure_check_db;\")\n",
    "cursor_mysql.execute(\"\"\"\n",
    "     CREATE TABLE IF NOT EXISTS Police_logs(\n",
    "         Stop_date DATE,\n",
    "         Stop_time TIME,\n",
    "         COUNTRY_NAME VARCHAR(20),\n",
    "         Driver_gender VARCHAR(1),\n",
    "         Driver_age INT,\n",
    "         Violation VARCHAR(10),\n",
    "         Search_conducted BOOLEAN,\n",
    "         Search_type VARCHAR(20),\n",
    "         Stop_outcome VARCHAR(20),\n",
    "         Is_arrested BOOLEAN,\n",
    "         Stop_duration TIME,\n",
    "         Drug_related_stop BOOLEAN,\n",
    "         Vehicle_number INT\n",
    "         );\n",
    "    \"\"\")\n",
    "conn_mysql.commit()\n",
    "print(\"Table 'Police logs' created successfully!\")\n",
    "print(\"table secure_check created successfully in sqlite3!\")"
   ]
  },
  {
   "cell_type": "code",
   "execution_count": 46,
   "id": "99dfc2a7-3e56-4122-a200-f6e8df3702b4",
   "metadata": {},
   "outputs": [],
   "source": [
    "cursor_mysql = conn_mysql.cursor()\n",
    "\n",
    "alter_query = \"\"\"\n",
    "ALTER TABLE police_logs\n",
    "MODIFY COLUMN Stop_duration varchar(20);\n",
    "\"\"\""
   ]
  },
  {
   "cell_type": "code",
   "execution_count": 48,
   "id": "a5366c61-eb54-4e81-82a4-1c3c18b933f1",
   "metadata": {},
   "outputs": [
    {
     "name": "stdout",
     "output_type": "stream",
     "text": [
      "column datatype modified successfully\n"
     ]
    }
   ],
   "source": [
    "cursor_mysql.execute(alter_query)\n",
    "conn_mysql.commit()\n",
    "print(\"column datatype modified successfully\")"
   ]
  },
  {
   "cell_type": "code",
   "execution_count": 50,
   "id": "233c65d7-6dc4-4eb1-9458-5aded414dbe6",
   "metadata": {},
   "outputs": [
    {
     "name": "stdout",
     "output_type": "stream",
     "text": [
      "column datatype modified successfully\n"
     ]
    }
   ],
   "source": [
    "conn_mysql.commit()\n",
    "\n",
    "alter_query = \"\"\"\n",
    "ALTER TABLE police_logs\n",
    "MODIFY COLUMN Vehicle_number varchar(20);\n",
    "\"\"\"\n",
    "cursor_mysql.execute(alter_query)\n",
    "conn_mysql.commit()\n",
    "print(\"column datatype modified successfully\")\n"
   ]
  },
  {
   "cell_type": "code",
   "execution_count": 51,
   "id": "8ad8355b-c2b5-4aff-93da-c9e8de296a2b",
   "metadata": {},
   "outputs": [
    {
     "name": "stdout",
     "output_type": "stream",
     "text": [
      "Data inserted using to_list()\n"
     ]
    }
   ],
   "source": [
    "datalist = df.values.tolist()\n",
    "query = \"\"\"\n",
    "    INSERT INTO police_logs(Stop_date, Stop_time, COUNTRY_NAME, Driver_gender, Driver_age, Violation, Search_conducted,\n",
    "    Search_type, Stop_outcome, Is_arrested, Stop_duration, Drug_related_stop, Vehicle_number)\n",
    "    VALUES(%s, %s, %s, %s, %s, %s, %s, %s, %s, %s, %s, %s, %s);\n",
    "\"\"\"\n",
    "cursor_mysql.executemany(query, datalist)\n",
    "conn_mysql.commit()\n",
    "print(\"Data inserted using to_list()\")"
   ]
  },
  {
   "cell_type": "code",
   "execution_count": null,
   "id": "6b060c8b-2f01-4930-862f-261b3568cd68",
   "metadata": {},
   "outputs": [],
   "source": []
  }
 ],
 "metadata": {
  "kernelspec": {
   "display_name": "Python 3 (ipykernel)",
   "language": "python",
   "name": "python3"
  },
  "language_info": {
   "codemirror_mode": {
    "name": "ipython",
    "version": 3
   },
   "file_extension": ".py",
   "mimetype": "text/x-python",
   "name": "python",
   "nbconvert_exporter": "python",
   "pygments_lexer": "ipython3",
   "version": "3.13.5"
  }
 },
 "nbformat": 4,
 "nbformat_minor": 5
}
